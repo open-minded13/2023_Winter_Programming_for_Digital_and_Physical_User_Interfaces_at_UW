{
 "cells": [
  {
   "cell_type": "markdown",
   "id": "ab22f849",
   "metadata": {},
   "source": [
    "# Objective & Tasks\n",
    "The objective of this lab is to review some of the material from TECHIN 509 in order to help the instructors gauge your comfort level with Python.\n",
    "\n",
    "Your task is to write Python code that solves each of the problems below. Please submit the Jupyter Notebook file before the end of class today. If you need help from an instructor, please let one of us know.\n",
    "\n",
    "You should also feel free to reference [Python's documentation](https://www.python.org/doc/) for any questions you have during the assignment."
   ]
  },
  {
   "cell_type": "markdown",
   "id": "b1fc0fc9",
   "metadata": {},
   "source": [
    "## Task 1\n",
    "Define two variables, `first_name` and `last_name` and concatenate the two so that they print on the same line. Ex. `Scott Stevson`"
   ]
  },
  {
   "cell_type": "code",
   "execution_count": 11,
   "id": "e7ef28e2",
   "metadata": {},
   "outputs": [
    {
     "name": "stdout",
     "output_type": "stream",
     "text": [
      "Chia-Wei Chang\n"
     ]
    }
   ],
   "source": [
    "first_name = \"Chia-Wei\"\n",
    "last_name = \"Chang\"\n",
    "print(first_name + \" \" + last_name)"
   ]
  },
  {
   "cell_type": "markdown",
   "id": "7057ec62",
   "metadata": {},
   "source": [
    "## Task 2\n",
    "Create a list letters, `a-f` and use a `for` loop to print out each letter one line at a time"
   ]
  },
  {
   "cell_type": "code",
   "execution_count": 12,
   "id": "b1a1aa23",
   "metadata": {},
   "outputs": [
    {
     "name": "stdout",
     "output_type": "stream",
     "text": [
      "a\n",
      "b\n",
      "c\n",
      "d\n",
      "e\n",
      "f\n"
     ]
    }
   ],
   "source": [
    "list_letters = ['a', 'b', 'c', 'd', 'e', 'f']\n",
    "for char in list_letters:\n",
    "    print(char)"
   ]
  },
  {
   "cell_type": "markdown",
   "id": "5f54a6c2",
   "metadata": {},
   "source": [
    "## Task 3\n",
    "Create a function that takes no arguments and asks the user for their name and then prints (or returns) their name with a cheerful greeting. Ex `G'day, Scott Stevson!`"
   ]
  },
  {
   "cell_type": "code",
   "execution_count": 13,
   "id": "1056519a",
   "metadata": {},
   "outputs": [
    {
     "name": "stdout",
     "output_type": "stream",
     "text": [
      "G'day, \n"
     ]
    }
   ],
   "source": [
    "def greeting():\n",
    "    user_name = input(\"Hi there! What's your name? \")\n",
    "    print(\"G'day, \" + user_name)\n",
    "\n",
    "greeting()"
   ]
  },
  {
   "cell_type": "markdown",
   "id": "84668724",
   "metadata": {},
   "source": [
    "## Task 4\n",
    "Create a function that calculates a 20% gratuity at a restaurant. The function should take a single argument (an `int` or `float`, your choice) and should return the amount of the tip to the console."
   ]
  },
  {
   "cell_type": "code",
   "execution_count": 14,
   "id": "14108736",
   "metadata": {},
   "outputs": [
    {
     "ename": "ValueError",
     "evalue": "could not convert string to float: ''",
     "output_type": "error",
     "traceback": [
      "\u001b[0;31m---------------------------------------------------------------------------\u001b[0m",
      "\u001b[0;31mValueError\u001b[0m                                Traceback (most recent call last)",
      "\u001b[0;32m/var/folders/5z/m4gp_fzn1l14t57tl67vwk3c0000gn/T/ipykernel_17156/207803008.py\u001b[0m in \u001b[0;36m<module>\u001b[0;34m\u001b[0m\n\u001b[1;32m      2\u001b[0m     \u001b[0;32mreturn\u001b[0m \u001b[0mfloat\u001b[0m\u001b[0;34m(\u001b[0m\u001b[0minput\u001b[0m \u001b[0;34m*\u001b[0m \u001b[0;36m0.2\u001b[0m\u001b[0;34m)\u001b[0m\u001b[0;34m\u001b[0m\u001b[0;34m\u001b[0m\u001b[0m\n\u001b[1;32m      3\u001b[0m \u001b[0;34m\u001b[0m\u001b[0m\n\u001b[0;32m----> 4\u001b[0;31m \u001b[0moriginal_price\u001b[0m \u001b[0;34m=\u001b[0m \u001b[0mfloat\u001b[0m\u001b[0;34m(\u001b[0m\u001b[0minput\u001b[0m\u001b[0;34m(\u001b[0m\u001b[0;34m\"Please input your original price: \"\u001b[0m\u001b[0;34m)\u001b[0m\u001b[0;34m)\u001b[0m\u001b[0;34m\u001b[0m\u001b[0;34m\u001b[0m\u001b[0m\n\u001b[0m\u001b[1;32m      5\u001b[0m \u001b[0mprint\u001b[0m\u001b[0;34m(\u001b[0m\u001b[0mgratuity_calculation\u001b[0m \u001b[0;34m(\u001b[0m\u001b[0moriginal_price\u001b[0m\u001b[0;34m)\u001b[0m\u001b[0;34m)\u001b[0m\u001b[0;34m\u001b[0m\u001b[0;34m\u001b[0m\u001b[0m\n",
      "\u001b[0;31mValueError\u001b[0m: could not convert string to float: ''"
     ]
    }
   ],
   "source": [
    "def gratuity_calculation(input):\n",
    "    return float(input * 0.2)\n",
    "\n",
    "original_price = float(input(\"Please input your original price: \"))\n",
    "print(gratuity_calculation (original_price))"
   ]
  },
  {
   "cell_type": "markdown",
   "id": "08ec9cf0",
   "metadata": {},
   "source": [
    "## Task 5\n",
    "Write a program that prints the numbers 0-10 to the console."
   ]
  },
  {
   "cell_type": "code",
   "execution_count": null,
   "id": "87455a5d",
   "metadata": {},
   "outputs": [
    {
     "name": "stdout",
     "output_type": "stream",
     "text": [
      "1\n",
      "2\n",
      "3\n",
      "4\n",
      "5\n",
      "6\n",
      "7\n",
      "8\n",
      "9\n",
      "10\n"
     ]
    }
   ],
   "source": [
    "for number in range(10):\n",
    "    print(number + 1)"
   ]
  },
  {
   "cell_type": "markdown",
   "id": "214d25ef",
   "metadata": {},
   "source": [
    "## Task 6\n",
    "Write a program that finds the Factorial of a given number.\n",
    "More on factorials can be found [here:](https://www.cuemath.com/numbers/factorial/) "
   ]
  },
  {
   "cell_type": "code",
   "execution_count": null,
   "id": "8d075244",
   "metadata": {},
   "outputs": [
    {
     "name": "stdout",
     "output_type": "stream",
     "text": [
      "3628800\n"
     ]
    }
   ],
   "source": [
    "def find_factorial(input):\n",
    "    if input == 1:\n",
    "        return input\n",
    "    else:\n",
    "        return (input * find_factorial(input - 1))\n",
    "    \n",
    "given_number = int(input(\"Please input a given number: \"))\n",
    "print(find_factorial(given_number))"
   ]
  },
  {
   "cell_type": "markdown",
   "id": "a4d958e4",
   "metadata": {},
   "source": [
    "## Task 7\n",
    "Write a program that asks the user the same question over and over until the user indicates they no longer want to provide an answer."
   ]
  },
  {
   "cell_type": "code",
   "execution_count": null,
   "id": "9bc54538",
   "metadata": {},
   "outputs": [],
   "source": [
    "def ask_question():\n",
    "    answer = input(\"Do you want to play with me (Y/N)? \")\n",
    "    while (answer != 'N' or answer != 'n'):\n",
    "        answer = input(\"Do you want to play with me (Y/N)? \")\n",
    "\n",
    "ask_question()"
   ]
  },
  {
   "cell_type": "markdown",
   "id": "467f4177",
   "metadata": {},
   "source": [
    "## Task 8\n",
    "Write a `class` \"Person\" that when instantiated contains the persons first name, last name, and age."
   ]
  },
  {
   "cell_type": "code",
   "execution_count": null,
   "id": "9003f0a9",
   "metadata": {},
   "outputs": [
    {
     "name": "stdout",
     "output_type": "stream",
     "text": [
      "Chia-Wei\n",
      "Chang\n",
      "24\n"
     ]
    }
   ],
   "source": [
    "class Person():\n",
    "    def __init__(self, first_name, last_name, age):\n",
    "        self.first_name = \"Chia-Wei\"\n",
    "        self.last_name = \"Chang\"\n",
    "        self.age = 24\n",
    "\n",
    "Programmer = Person(\"Chia-Wei\", \"Chang\", 24)\n",
    "print(Programmer.first_name)\n",
    "print(Programmer.last_name)\n",
    "print(Programmer.age)"
   ]
  },
  {
   "cell_type": "markdown",
   "id": "a1a718ba",
   "metadata": {},
   "source": [
    "## Task 9\n",
    "Write a program that asks the user whether they enjoy jogging. The user's response should be one of the following: \"yes\", \"no\", \"y\", \"n\". The program should continue asking the question until the user provides the correct response."
   ]
  },
  {
   "cell_type": "code",
   "execution_count": null,
   "id": "28dedf56",
   "metadata": {},
   "outputs": [],
   "source": [
    "answer = input(\"Do you enjoy jogging? \")\n",
    "while (not((answer == 'yes') or (answer == 'no') or (answer == 'y') or (answer == 'n'))):\n",
    "    answer = input(\"Do you enjoy jogging? \")"
   ]
  },
  {
   "cell_type": "markdown",
   "id": "fb04333e",
   "metadata": {},
   "source": [
    "## Task 10\n",
    "### Fibonacci Sequence\n",
    "Given a number `n`, return the nth Fibonacci's number. You can find more information about Fibonacci Sequences [here](https://www.mathsisfun.com/numbers/fibonacci-sequence.html)"
   ]
  },
  {
   "cell_type": "code",
   "execution_count": null,
   "id": "d8435191",
   "metadata": {},
   "outputs": [
    {
     "data": {
      "text/plain": [
       "55"
      ]
     },
     "execution_count": 8,
     "metadata": {},
     "output_type": "execute_result"
    }
   ],
   "source": [
    "def Fibonacci(n):\n",
    "    if n < 0: \n",
    "        print(\"Incorrect Input!\")\n",
    "    elif n == 0:\n",
    "        return 0\n",
    "    elif n == 1 or n == 2:\n",
    "        return 1\n",
    "    else: \n",
    "        return Fibonacci(n-1) + Fibonacci(n-2)\n",
    "\n",
    "n = int(input(\"Please input a number: \"))\n",
    "Fibonacci(n)"
   ]
  },
  {
   "cell_type": "markdown",
   "id": "ef4fc681",
   "metadata": {},
   "source": [
    "## Bonus Question\n",
    "### Number Guessing Game\n",
    "* Write a function `guessing_game` that takes no arguments.\n",
    "* When run, the function chooses a random integer between 0 and 100 (inclusive).\n",
    "* Then ask the user to guess what number has been chosen.\n",
    "* Each time the user enters a guess, the program indicates one of the following:\n",
    "    * Too high\n",
    "    * Too low\n",
    "    * Just right\n",
    "* If the user guesses correctly, the program exits. Otherwise, the user is asked to try again.\n",
    "* The program only exits after the user guesses correctly."
   ]
  },
  {
   "cell_type": "code",
   "execution_count": 15,
   "id": "9f14a1d5",
   "metadata": {},
   "outputs": [
    {
     "name": "stdout",
     "output_type": "stream",
     "text": [
      "80\n",
      "Too low!\n",
      "\n",
      "Too high!\n",
      "\n",
      "Just right!\n",
      "\n"
     ]
    }
   ],
   "source": [
    "import random\n",
    "\n",
    "def guessing_game():\n",
    "    number = random.randint(0, 100)\n",
    "    guess_number = int(input(\"Guess the number: \"))\n",
    "    while (guess_number != number):\n",
    "        if guess_number < number:\n",
    "            print(\"Too low!\\n\")\n",
    "            guess_number = int(input(\"Guess the number: \"))\n",
    "        else: \n",
    "            print(\"Too high!\\n\")\n",
    "            guess_number = int(input(\"Guess the number: \"))\n",
    "    print(\"Just right!\\n\")\n",
    "\n",
    "guessing_game()"
   ]
  }
 ],
 "metadata": {
  "kernelspec": {
   "display_name": "base",
   "language": "python",
   "name": "python3"
  },
  "language_info": {
   "codemirror_mode": {
    "name": "ipython",
    "version": 3
   },
   "file_extension": ".py",
   "mimetype": "text/x-python",
   "name": "python",
   "nbconvert_exporter": "python",
   "pygments_lexer": "ipython3",
   "version": "3.9.13"
  },
  "vscode": {
   "interpreter": {
    "hash": "881340f410f76f49a702bf4c4e69282dbb33d20ee297ea07f38f20c408e2c426"
   }
  }
 },
 "nbformat": 4,
 "nbformat_minor": 5
}
