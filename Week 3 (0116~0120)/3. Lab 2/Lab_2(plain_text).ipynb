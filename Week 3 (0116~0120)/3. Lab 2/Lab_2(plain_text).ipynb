{
 "cells": [
  {
   "cell_type": "code",
   "execution_count": null,
   "metadata": {},
   "outputs": [],
   "source": [
    "## Step 1\n",
    "import pandas as pd\n",
    "f1 = 'robot_faces.csv'\n",
    "f2 = 'people.csv'\n",
    "f3 = 'accelerometer.csv'\n",
    "robot_faces = pd.read_csv(f1)\n",
    "people = pd.read_csv(f2)\n",
    "accelerometer = pd.read_csv(f3)"
   ]
  },
  {
   "cell_type": "code",
   "execution_count": null,
   "metadata": {},
   "outputs": [],
   "source": [
    "## Step 2\n",
    "## TODO: Write code to ask a question about the face data and answer it both visually and programmatically\n",
    "print(\"How many robots both have a mouth and a nose?\")\n",
    "answer = robot_faces.query(\"`mouth` == 'y' and `nose` == 'y'\")\n",
    "others = robot_faces.query(\"`mouth` == 'x' or `nose` == 'x'\")\n",
    "print(\"There are\", answer[answer.columns[0]].count(), \"robots both have a mouth and nose.\")\n",
    "barchart_data = pd.DataFrame({\"Comparison\": [\"Both have a mouth and a nose\", \"Others\"], \"Counts\": [len(answer), len(others)]})\n",
    "barchart_data.plot.bar(x = \"Comparison\", y = \"Counts\", rot = 0)\n",
    "answer"
   ]
  },
  {
   "cell_type": "code",
   "execution_count": null,
   "metadata": {},
   "outputs": [],
   "source": [
    "## Step 3\n",
    "## TODO: Write code to ask a question about the person data and answer it both visually and programmatically\n",
    "print(\"How many males are in the data set vs females?\")\n",
    "answer = people['Gender'].value_counts()\n",
    "bar = answer.plot(kind = 'bar', rot = 0, color = 'c')\n",
    "bar.set_title(\"Bar Graph of Gender\", y = 1)\n",
    "bar.set_ylabel('Number of People')\n",
    "bar.set_xticklabels(('Male', 'Female'))\n",
    "\n",
    "for rect in bar.patches:\n",
    "    y_value = rect.get_height()\n",
    "    x_value = rect.get_x() + rect.get_width() / 2\n",
    "    space = 1\n",
    "    label = format(y_value)\n",
    "    bar.annotate(label, (x_value, y_value), xytext=(0, space), textcoords=\"offset points\", ha='center', va='bottom')"
   ]
  },
  {
   "cell_type": "code",
   "execution_count": null,
   "metadata": {},
   "outputs": [],
   "source": [
    "## Step 4-1\n",
    "## TODO: Code for loading and visualizing accelerometer data\n",
    "from numpy import genfromtxt\n",
    "from mpl_toolkits.mplot3d import Axes3D\n",
    "import matplotlib.pyplot as plt\n",
    "import numpy as np\n",
    "\n",
    "accelerometer_data = genfromtxt(\"accelerometer.csv\", delimiter = ',', names = \"time, acc_x, acc_y, acc_z\")\n",
    "\n",
    "print(\"Let's visualize the data in a 3D projection:\")\n",
    "figure_3D = plt.figure()\n",
    "figure_3D = figure_3D.add_subplot(111, projection='3d')\n",
    "x = accelerometer_data[\"acc_x\"]\n",
    "y = accelerometer_data[\"acc_y\"]\n",
    "z = accelerometer_data[\"acc_z\"]\n",
    "c = accelerometer_data[\"time\"]\n",
    "figure_3D.scatter(x, y, z, c=c, cmap=plt.hot())\n",
    "plt.show()"
   ]
  },
  {
   "cell_type": "code",
   "execution_count": null,
   "metadata": {},
   "outputs": [],
   "source": [
    "## Step 4-2\n",
    "print(\"Let's see the respective acceleration changes in the x-axis direction:\")\n",
    "plt.subplot(1, 1, 1)\n",
    "plt.title('Direction: X-Axis')\n",
    "plt.plot(c, x, '.-')\n",
    "plt.xlabel('time (s)')\n",
    "plt.ylabel('X acceleration')\n",
    "plt.show()"
   ]
  },
  {
   "cell_type": "code",
   "execution_count": null,
   "metadata": {},
   "outputs": [],
   "source": [
    "## Step 4-3\n",
    "print(\"Let's see the respective acceleration changes in the y-axis directions:\")\n",
    "plt.subplot(1, 1, 1)\n",
    "plt.title('Direction: Y-Axis')\n",
    "plt.plot(c, y, '.-')\n",
    "plt.xlabel('time (s)')\n",
    "plt.ylabel('Y acceleration')\n",
    "plt.show()"
   ]
  },
  {
   "cell_type": "code",
   "execution_count": null,
   "metadata": {},
   "outputs": [],
   "source": [
    "## Step 4-4\n",
    "print(\"Let's see the respective acceleration changes in the z-axis directions:\")\n",
    "plt.subplot(1, 1, 1)\n",
    "plt.title('Direction: Z-Axis')\n",
    "plt.plot(c, z, '.-')\n",
    "plt.xlabel('time (s)')\n",
    "plt.ylabel('Z acceleration')\n",
    "plt.show()"
   ]
  },
  {
   "cell_type": "code",
   "execution_count": null,
   "metadata": {},
   "outputs": [],
   "source": [
    "## Step 5\n",
    "## TODO: Code for detecting lack of movement (will be run after running code from Step 3)\n",
    "\n",
    "accelerometer_data = accelerometer\n",
    "accelerometer_data.columns = ['time', 'acc_x', 'acc_y', 'acc_z']\n",
    "print(\"The total amount of time is\", int(accelerometer_data['time'].iloc[-1]), \"s.\")\n",
    "\n",
    "movement = accelerometer_data[(abs(accelerometer_data.acc_x) >= 0.2) | (abs(accelerometer_data.acc_y) >= 0.2) | (abs(accelerometer_data.acc_z) >= 0.2)]\n",
    "lack_of_movement = accelerometer_data[(abs(accelerometer_data.acc_x) < 0.2) & (abs(accelerometer_data.acc_y) < 0.2) & (abs(accelerometer_data.acc_z) < 0.2)]\n",
    "time_with_movement = len(movement) * 0.2\n",
    "time_without_movement = len(lack_of_movement) * 0.2\n",
    "print(\"Time with movement:\", time_with_movement, \"s.\")\n",
    "print(\"Time without movement:\", time_without_movement, \"s.\")\n",
    "\n",
    "def autopct(pct): # only show the label when it's > 10%\n",
    "    return (\"%.2f %%\" % pct) if pct > 10 else ''\n",
    "piechart_data = pd.DataFrame({\"time\": [time_with_movement, time_without_movement]}, index = [\"Time with movement\", \"Time without movement\"])\n",
    "piechart = piechart_data.plot.pie(y = \"time\", figsize = (5, 5), autopct = autopct, title = \"Percentage Calculation\", ylabel = \"\")"
   ]
  },
  {
   "cell_type": "code",
   "execution_count": null,
   "metadata": {},
   "outputs": [],
   "source": [
    "## Step 6\n",
    "## TODO: Code for counting steps in accelerometer data (will be run after Step 4)\n",
    "import math\n",
    "\n",
    "Peaks_and_Valleys = []\n",
    "for i in range(len(accelerometer_data)):\n",
    "    if i == 0 or i == len(accelerometer_data)-1:\n",
    "        Peaks_and_Valleys.append(0)\n",
    "    elif (accelerometer_data.acc_z[i] > accelerometer_data.acc_z[i-1]) and (accelerometer_data.acc_z[i] > accelerometer_data.acc_z[i+1]):\n",
    "        if (math.fabs(accelerometer_data.acc_z[i] - accelerometer_data.acc_z[i-1]) > 1) and (math.fabs(accelerometer_data.acc_z[i] - accelerometer_data.acc_z[i+1]) > 1):\n",
    "            Peaks_and_Valleys.append(1)\n",
    "        else:\n",
    "            Peaks_and_Valleys.append(0)\n",
    "    elif (accelerometer_data.acc_z[i] < accelerometer_data.acc_z[i-1]) and (accelerometer_data.acc_z[i] < accelerometer_data.acc_z[i+1]):\n",
    "        if (math.fabs(accelerometer_data.acc_z[i] - accelerometer_data.acc_z[i-1]) > 1) and (math.fabs(accelerometer_data.acc_z[i] - accelerometer_data.acc_z[i+1]) > 1):\n",
    "            Peaks_and_Valleys.append(-1)\n",
    "        else:\n",
    "            Peaks_and_Valleys.append(0)\n",
    "    else:\n",
    "        Peaks_and_Valleys.append(0)\n",
    "\n",
    "Chart_for_Peaks_and_Valleys = pd.DataFrame(Peaks_and_Valleys, columns = [\"values\"])\n",
    "print(\"Peaks:\", Chart_for_Peaks_and_Valleys[\"values\"].value_counts()[1])\n",
    "print(\"Valleys:\", Chart_for_Peaks_and_Valleys[\"values\"].value_counts()[-1])\n",
    "Step_Counter = min(Chart_for_Peaks_and_Valleys[\"values\"].value_counts()[1], Chart_for_Peaks_and_Valleys[\"values\"].value_counts()[-1])\n",
    "print(\"The estimated number of steps is\", Step_Counter)\n",
    "Chart_for_Peaks_and_Valleys.plot.line(style = \".-\")"
   ]
  }
 ],
 "metadata": {
  "kernelspec": {
   "display_name": "base",
   "language": "python",
   "name": "python3"
  },
  "language_info": {
   "codemirror_mode": {
    "name": "ipython",
    "version": 3
   },
   "file_extension": ".py",
   "mimetype": "text/x-python",
   "name": "python",
   "nbconvert_exporter": "python",
   "pygments_lexer": "ipython3",
   "version": "3.9.13 (main, Aug 25 2022, 18:29:29) \n[Clang 12.0.0 ]"
  },
  "orig_nbformat": 4,
  "vscode": {
   "interpreter": {
    "hash": "881340f410f76f49a702bf4c4e69282dbb33d20ee297ea07f38f20c408e2c426"
   }
  }
 },
 "nbformat": 4,
 "nbformat_minor": 2
}
