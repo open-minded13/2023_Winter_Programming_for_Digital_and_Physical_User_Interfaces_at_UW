{
 "cells": [
  {
   "cell_type": "markdown",
   "id": "20feb6b3",
   "metadata": {},
   "source": [
    "# Working with Chatbots"
   ]
  },
  {
   "cell_type": "markdown",
   "id": "6e64b24c",
   "metadata": {},
   "source": [
    "We'll also install pandas which we'll be using the read text files"
   ]
  },
  {
   "cell_type": "code",
   "execution_count": 27,
   "id": "e70245e9",
   "metadata": {},
   "outputs": [
    {
     "name": "stdout",
     "output_type": "stream",
     "text": [
      "Requirement already satisfied: pandas in /Users/wei/opt/anaconda3/lib/python3.9/site-packages (1.4.4)\n",
      "Requirement already satisfied: python-dateutil>=2.8.1 in /Users/wei/opt/anaconda3/lib/python3.9/site-packages (from pandas) (2.8.2)\n",
      "Requirement already satisfied: pytz>=2020.1 in /Users/wei/opt/anaconda3/lib/python3.9/site-packages (from pandas) (2022.1)\n",
      "Requirement already satisfied: numpy>=1.18.5 in /Users/wei/opt/anaconda3/lib/python3.9/site-packages (from pandas) (1.21.5)\n",
      "Requirement already satisfied: six>=1.5 in /Users/wei/opt/anaconda3/lib/python3.9/site-packages (from python-dateutil>=2.8.1->pandas) (1.16.0)\n",
      "^C\n",
      "\u001b[31mERROR: Operation cancelled by user\u001b[0m\u001b[31m\n",
      "\u001b[0mNote: you may need to restart the kernel to use updated packages.\n"
     ]
    }
   ],
   "source": [
    "pip install pandas"
   ]
  },
  {
   "cell_type": "code",
   "execution_count": null,
   "id": "7456c029",
   "metadata": {},
   "outputs": [],
   "source": [
    "import pandas as pd"
   ]
  },
  {
   "cell_type": "markdown",
   "id": "5bebd13b",
   "metadata": {},
   "source": [
    "## Lab 1: Create Your Own Chatbot"
   ]
  },
  {
   "cell_type": "markdown",
   "id": "77d77d36",
   "metadata": {},
   "source": [
    "###  Step 1: Barebones Interactive Chatbot\n",
    "You will first create a simple interactive loop between user input and program output. Before entering the loop, your program should prompt the user to request their input (e.g. \"Hi, how can I help you?\"). At each iteration of the loop, the program should take user input (typed onto the terminal pressing 'Enter' at the end) and then output simple statistical information about that input (e.g. \"You entered X letters and Y words\"). Also add a way to exit the loop; for example, if the user types \"Bye\" the loop should end and your program should halt after a final prompt to the user to acknowledge that the interaction has ended. Add your code below."
   ]
  },
  {
   "cell_type": "code",
   "execution_count": 30,
   "id": "032aac1a",
   "metadata": {},
   "outputs": [
    {
     "name": "stdout",
     "output_type": "stream",
     "text": [
      "Hi! I'm Koala. When you enter a paragraph, I can help you count how many letters and numbers there are. You can also type \"Bye\" to turn me off.\n",
      "You just typed: Hi Koala, Have a good day!\n",
      "You entered 19 letters and 0 digits.\n",
      "You just typed: Bye\n",
      "You entered 3 letters and 0 digits.\n",
      "Good Bye!\n"
     ]
    }
   ],
   "source": [
    "## Barebones interactice chatbot\n",
    "\n",
    "# TODO: Implement the interactive system as described above\n",
    "\n",
    "def Chatbot1():\n",
    "    print(\"Hi! I'm Koala. When you enter a paragraph, I can help you count how many letters and numbers there are. You can also type \\\"Bye\\\" to turn me off.\")\n",
    "    user_input = \"None\"\n",
    "    while user_input != \"Bye\":\n",
    "        user_input = input(\"Please enter a paragraph (or type \\\"Bye\\\" to turn me off): \")\n",
    "        print(\"You just typed: \" + user_input)\n",
    "        number_of_letters = 0\n",
    "        number_of_digits = 0\n",
    "        for i in user_input:\n",
    "            if i.isalpha():\n",
    "                number_of_letters = number_of_letters + 1\n",
    "            elif i.isdigit():\n",
    "                number_of_digits = number_of_digits + 1\n",
    "        print(\"You entered\", number_of_letters, \"letters and\", number_of_digits, \"digits.\")\n",
    "    print(\"Good Bye!\")\n",
    "Chatbot1()"
   ]
  },
  {
   "cell_type": "markdown",
   "id": "95fe6739",
   "metadata": {},
   "source": [
    "### Step 2: Simple ListenBot\n",
    "\n",
    "Next you will upgrade your chatbot to be a \"good listener.\" Do not worry about deleting or overwriting things you did in the previous step. Before entering into the interactive loop, your chatbot should ask the user's name and remember it throughout the chat. It should also prompt the user to talk about something (e.g. \"How was your day, Ashitaka?\") As part of the loop, the chatbot should analyze the user's input and decide whether to give a positive, negative, or neutral response. To analyze the input, we have supplied a fixed list of [positive](http://ptrckprry.com/course/ssd/data/positive-words.txt) and [negative](http://ptrckprry.com/course/ssd/data/negative-words.txt) words and which will determine the number of positive and negative words that occur in the user's input. For the most simple version of the `ListenBot`, your list of positive and negative words do not have to be too long, just enough to showcase a simple conversation. However, the lists we supply will make your `ListenBot` more robust. \n",
    "\n",
    "The chatbot should respond based on the number of positive and negative words in the user's input. Your chatbot should have at least two different responses of each type and should alternate between responses, e.g.:\n",
    "* Positive responses: \"Great!\" \"Cool!\"\n",
    "* Negative responses: \"Too bad!\" \"Womp, womp!\"\n",
    "* Neutral responses: \"Hmm..\" \"I see.\"\n",
    "\n",
    "As before, there should be at least one way to end the conversation. You can make the ways to end the conversation known to the user in your earlier prompt or somewhere during the conversation. Add your updated code below."
   ]
  },
  {
   "cell_type": "code",
   "execution_count": 31,
   "id": "afc72e51",
   "metadata": {},
   "outputs": [
    {
     "name": "stdout",
     "output_type": "stream",
     "text": [
      "Hi! My name is Koala. I'm a warmful assistance. You can also type \"Bye\" to turn me off.\n",
      "I am so proud of you!\n",
      "I see!\n",
      "Good Bye!\n"
     ]
    }
   ],
   "source": [
    "## Simple ListenBot\n",
    "\n",
    "# TODO: Implement ListenBot by extending the barebones interactive chatbot\n",
    "\n",
    "import random\n",
    "\n",
    "def Chatbot2():\n",
    "    \n",
    "    positive = list(pd.read_csv(\"positive_words.txt\", header=0).iloc[:,0].values)\n",
    "    negative = list(pd.read_csv(\"negative_words.txt\", header=0).iloc[:,0].values)\n",
    "\n",
    "    positive_responses = [\"I am happy to hear that!\", \"I am so proud of you!\", \"I am so happy for you!\"]\n",
    "    negative_responses = [\"I am sorry to hear that!\", \"I hope you get better\", \"I can understand! Go out and bask in the sun when you have time!\"]\n",
    "    neutral_responses = [\"I see!\", \"Ok!\"]\n",
    "    \n",
    "    print(\"Hi! My name is Koala. I'm a warmful assistance. You can also type \\\"Bye\\\" to turn me off.\")\n",
    "    user_input = input(\"What is your name? \")\n",
    "    user_feeling_input = None\n",
    "    while user_input != \"Bye\" and user_feeling_input != \"Bye\":\n",
    "        positive_word_count = 0\n",
    "        negative_word_count = 0\n",
    "        user_feeling_input = input(\"Hi \" + user_input + \"! How are you feeling now (or type \\\"Bye\\\" to turn me off)? \")\n",
    "        positive_word_count = len(set(user_feeling_input.split(\" \")).intersection(set(positive)))\n",
    "        negative_word_count = len(set(user_feeling_input.split(\" \")).intersection(set(negative)))\n",
    "        if positive_word_count > negative_word_count:\n",
    "            print(random.choice(positive_responses))\n",
    "        elif positive_word_count < negative_word_count:\n",
    "            print(random.choice(negative_responses))\n",
    "        else:\n",
    "            print(random.choice(neutral_responses))\n",
    "    print(\"Good Bye!\")\n",
    "\n",
    "Chatbot2()\n",
    "\n",
    "# Use the positive and negative word lists below to make your ListenBot more effective\n",
    "# Note that we generate these lists from words in plain text files that you can find on\n",
    "# Canvas under Files. Upload them to your own notebook server."
   ]
  },
  {
   "cell_type": "markdown",
   "id": "dba59602",
   "metadata": {},
   "source": [
    "#### Positive list and its word count"
   ]
  },
  {
   "cell_type": "code",
   "execution_count": null,
   "id": "6425595a",
   "metadata": {},
   "outputs": [],
   "source": [
    "positive = list(pd.read_csv(\"positive_words.txt\", header=0).iloc[:,0].values)"
   ]
  },
  {
   "cell_type": "code",
   "execution_count": null,
   "id": "09d38dd7",
   "metadata": {},
   "outputs": [],
   "source": [
    "len(positive)"
   ]
  },
  {
   "cell_type": "markdown",
   "id": "2dc06eeb",
   "metadata": {},
   "source": [
    "#### Negative list and its word count"
   ]
  },
  {
   "cell_type": "code",
   "execution_count": null,
   "id": "a1e6351b",
   "metadata": {},
   "outputs": [],
   "source": [
    "negative = list(pd.read_csv(\"negative_words.txt\", header=0).iloc[:,0].values)"
   ]
  },
  {
   "cell_type": "code",
   "execution_count": null,
   "id": "cca13097",
   "metadata": {},
   "outputs": [],
   "source": [
    "len(negative)"
   ]
  },
  {
   "cell_type": "markdown",
   "id": "4a787e19",
   "metadata": {},
   "source": [
    "### Step 3: Improved Listenbot\n",
    "\n",
    "Now test your chatbot with a classmate or friend. Based on breakdowns or awkwardness in these tests choose at least one additional improvement and implement it below. Make sure to descibe your improvement in the list below."
   ]
  },
  {
   "cell_type": "code",
   "execution_count": 33,
   "id": "315aee0b",
   "metadata": {},
   "outputs": [
    {
     "name": "stdout",
     "output_type": "stream",
     "text": [
      "Hi! My name is Koala. I'm a warmful assistance. You can also type \"Bye\" to turn me off.\n",
      "You just typed: Chiawei\n",
      "You just typed: Hi Koala! I feel really good\n",
      "I am so proud of you!\n",
      "You just typed: I FEEL REALLY GREAT\n",
      "I am happy to hear that!\n",
      "You just typed: SO SO\n",
      "Ok!\n",
      "You just typed: SO SO\n",
      "Ok!\n",
      "You just typed: Bye\n",
      "Ok!\n",
      "Good Bye!\n"
     ]
    }
   ],
   "source": [
    "## Improved ListenBot\n",
    "\n",
    "# TODO: Implement improved ListenBot that addresses at least one breakdown of the original ListenBot\n",
    "\n",
    "import random\n",
    "\n",
    "def Chatbot3():\n",
    "    \n",
    "    positive = list(pd.read_csv(\"positive_words.txt\", header=0).iloc[:,0].values)\n",
    "    negative = list(pd.read_csv(\"negative_words.txt\", header=0).iloc[:,0].values)\n",
    "\n",
    "    positive_responses = [\"I am happy to hear that!\", \"I am so proud of you!\", \"I am so happy for you!\"]\n",
    "    negative_responses = [\"I am sorry to hear that!\", \"I hope you get better\", \"I can understand! Go out and bask in the sun when you have time!\"]\n",
    "    neutral_responses = [\"I see!\", \"Ok!\"]\n",
    "    \n",
    "    print(\"Hi! My name is Koala. I'm a warmful assistance. You can also type \\\"Bye\\\" to turn me off.\")\n",
    "    user_input = input(\"What is your name? \")\n",
    "    print(\"You just typed: \" + user_input)\n",
    "    user_feeling_input = \"None\"\n",
    "    while user_input.lower() != \"bye\" and user_feeling_input.lower() != \"bye\":\n",
    "        positive_word_count = 0\n",
    "        negative_word_count = 0\n",
    "        user_feeling_input = input(\"Hi \" + user_input + \"! How are you feeling now (or type \\\"Bye\\\" to turn me off)? \")\n",
    "        print(\"You just typed: \" + user_feeling_input)\n",
    "        positive_word_count = len(set(user_feeling_input.lower().split(\" \")).intersection(set(positive)))\n",
    "        negative_word_count = len(set(user_feeling_input.lower().split(\" \")).intersection(set(negative)))   \n",
    "        if positive_word_count > negative_word_count:\n",
    "            print(random.choice(positive_responses))\n",
    "        elif positive_word_count < negative_word_count:\n",
    "            print(random.choice(negative_responses))\n",
    "        else:\n",
    "            print(random.choice(neutral_responses))\n",
    "    print(\"Good Bye!\")\n",
    "\n",
    "\n",
    "Chatbot3()\n",
    "\n"
   ]
  },
  {
   "attachments": {},
   "cell_type": "markdown",
   "id": "35d5faf5",
   "metadata": {},
   "source": [
    "### List of Improvements\n",
    "Provide a list or table here in `markdown` containing the improvements you made and a brief description of why you made them.\n",
    "1. Change user input to lowercase.\n",
    "2. Allow flexibility in exit keywords (e.g., bye, Bye, BYE, bYE)."
   ]
  }
 ],
 "metadata": {
  "kernelspec": {
   "display_name": "base",
   "language": "python",
   "name": "python3"
  },
  "language_info": {
   "codemirror_mode": {
    "name": "ipython",
    "version": 3
   },
   "file_extension": ".py",
   "mimetype": "text/x-python",
   "name": "python",
   "nbconvert_exporter": "python",
   "pygments_lexer": "ipython3",
   "version": "3.9.13 (main, Aug 25 2022, 18:29:29) \n[Clang 12.0.0 ]"
  },
  "vscode": {
   "interpreter": {
    "hash": "881340f410f76f49a702bf4c4e69282dbb33d20ee297ea07f38f20c408e2c426"
   }
  }
 },
 "nbformat": 4,
 "nbformat_minor": 5
}
